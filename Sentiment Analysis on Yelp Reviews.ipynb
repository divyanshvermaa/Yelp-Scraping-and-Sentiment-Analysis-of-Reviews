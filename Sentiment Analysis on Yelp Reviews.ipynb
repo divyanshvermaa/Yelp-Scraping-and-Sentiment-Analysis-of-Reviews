{
  "nbformat": 4,
  "nbformat_minor": 0,
  "metadata": {
    "colab": {
      "name": "APIs.ipynb",
      "provenance": []
    },
    "kernelspec": {
      "name": "python3",
      "display_name": "Python 3"
    },
    "language_info": {
      "name": "python"
    }
  },
  "cells": [
    {
      "cell_type": "markdown",
      "source": [
        "# Importing Libraries"
      ],
      "metadata": {
        "id": "l15eGtJYprBV"
      }
    },
    {
      "cell_type": "code",
      "source": [
        "import warnings\n",
        "warnings.filterwarnings('ignore')"
      ],
      "metadata": {
        "id": "mtvENaRHs2Nr"
      },
      "execution_count": 5,
      "outputs": []
    },
    {
      "cell_type": "code",
      "source": [
        "import requests\n",
        "from bs4 import BeautifulSoup as bs"
      ],
      "metadata": {
        "id": "0FI6GCrnr-_U"
      },
      "execution_count": 1,
      "outputs": []
    },
    {
      "cell_type": "code",
      "source": [
        "from pprint import pprint\n",
        "import random\n",
        "import json"
      ],
      "metadata": {
        "id": "uyK0opQ6sKPv"
      },
      "execution_count": 2,
      "outputs": []
    },
    {
      "cell_type": "code",
      "source": [
        "from nltk.sentiment import SentimentAnalyzer\n",
        "import nltk.sentiment.util\n",
        "from nltk.classify import NaiveBayesClassifier"
      ],
      "metadata": {
        "id": "jl6jC6_h6txA"
      },
      "execution_count": 6,
      "outputs": []
    },
    {
      "cell_type": "markdown",
      "source": [
        "# Fetching Reviews through Yelp's API"
      ],
      "metadata": {
        "id": "f_DAKvFcsLHD"
      }
    },
    {
      "cell_type": "code",
      "source": [
        "accessToken = '---'"
      ],
      "metadata": {
        "id": "ZcFawMp_s2X1"
      },
      "execution_count": 7,
      "outputs": []
    },
    {
      "cell_type": "code",
      "source": [
        "r = requests.get('https://api.yelp.com/v3/businesses/search?location=Toronto&limit=50', headers={'Authorization': 'Bearer {}'.format(accessToken)})"
      ],
      "metadata": {
        "id": "ju_0OIbqtOsF"
      },
      "execution_count": 8,
      "outputs": []
    },
    {
      "cell_type": "code",
      "source": [
        "print(r.status_code) # status code '200' implies the request was successful"
      ],
      "metadata": {
        "colab": {
          "base_uri": "https://localhost:8080/"
        },
        "id": "-Jr5SOj4tdTX",
        "outputId": "e11f154c-f586-42dd-8b61-aa7ed7d9159f"
      },
      "execution_count": 9,
      "outputs": [
        {
          "output_type": "stream",
          "name": "stdout",
          "text": [
            "200\n"
          ]
        }
      ]
    },
    {
      "cell_type": "code",
      "source": [
        "pprint(r.json()['businesses'][:5])"
      ],
      "metadata": {
        "colab": {
          "base_uri": "https://localhost:8080/"
        },
        "id": "_ftDM_bpvyka",
        "outputId": "8c614df4-17c3-4cb5-dfc9-d58e10796ca5"
      },
      "execution_count": 36,
      "outputs": [
        {
          "output_type": "stream",
          "name": "stdout",
          "text": [
            "[{'alias': 'pai-northern-thai-kitchen-toronto-5',\n",
            "  'categories': [{'alias': 'thai', 'title': 'Thai'}],\n",
            "  'coordinates': {'latitude': 43.64784, 'longitude': -79.38872},\n",
            "  'display_phone': '+1 416-901-4724',\n",
            "  'distance': 3009.3347434869856,\n",
            "  'id': 'r_BrIgzYcwo1NAuG9dLbpg',\n",
            "  'image_url': 'https://s3-media1.fl.yelpcdn.com/bphoto/qEbOKh9rDmTrmHdaUDDnNg/o.jpg',\n",
            "  'is_closed': False,\n",
            "  'location': {'address1': '18 Duncan Street',\n",
            "               'address2': '',\n",
            "               'address3': '',\n",
            "               'city': 'Toronto',\n",
            "               'country': 'CA',\n",
            "               'display_address': ['18 Duncan Street',\n",
            "                                   'Toronto, ON M5H 3G8',\n",
            "                                   'Canada'],\n",
            "               'state': 'ON',\n",
            "               'zip_code': 'M5H 3G8'},\n",
            "  'name': 'Pai Northern Thai Kitchen',\n",
            "  'phone': '+14169014724',\n",
            "  'price': '$$',\n",
            "  'rating': 4.5,\n",
            "  'review_count': 3010,\n",
            "  'transactions': [],\n",
            "  'url': 'https://www.yelp.com/biz/pai-northern-thai-kitchen-toronto-5?adjust_creative=he8fAQ5dPodHGI8nV-U_jw&utm_campaign=yelp_api_v3&utm_medium=api_v3_business_search&utm_source=he8fAQ5dPodHGI8nV-U_jw'},\n",
            " {'alias': 'seven-lives-tacos-y-mariscos-toronto',\n",
            "  'categories': [{'alias': 'mexican', 'title': 'Mexican'}],\n",
            "  'coordinates': {'latitude': 43.6543411559068, 'longitude': -79.4004796072841},\n",
            "  'display_phone': '+1 416-393-4636',\n",
            "  'distance': 2236.76924282367,\n",
            "  'id': 'iGEvDk6hsizigmXhDKs2Vg',\n",
            "  'image_url': 'https://s3-media3.fl.yelpcdn.com/bphoto/TMB02pQtqOwzXMm_oomjJw/o.jpg',\n",
            "  'is_closed': False,\n",
            "  'location': {'address1': '72 Kensington Avenue',\n",
            "               'address2': '',\n",
            "               'address3': '',\n",
            "               'city': 'Toronto',\n",
            "               'country': 'CA',\n",
            "               'display_address': ['72 Kensington Avenue',\n",
            "                                   'Toronto, ON M5T 2K1',\n",
            "                                   'Canada'],\n",
            "               'state': 'ON',\n",
            "               'zip_code': 'M5T 2K1'},\n",
            "  'name': 'Seven Lives Tacos y Mariscos',\n",
            "  'phone': '+14163934636',\n",
            "  'price': '$',\n",
            "  'rating': 4.5,\n",
            "  'review_count': 1358,\n",
            "  'transactions': [],\n",
            "  'url': 'https://www.yelp.com/biz/seven-lives-tacos-y-mariscos-toronto?adjust_creative=he8fAQ5dPodHGI8nV-U_jw&utm_campaign=yelp_api_v3&utm_medium=api_v3_business_search&utm_source=he8fAQ5dPodHGI8nV-U_jw'},\n",
            " {'alias': 'kinka-izakaya-original-toronto',\n",
            "  'categories': [{'alias': 'japanese', 'title': 'Japanese'},\n",
            "                 {'alias': 'pubs', 'title': 'Pubs'}],\n",
            "  'coordinates': {'latitude': 43.66045, 'longitude': -79.37915},\n",
            "  'display_phone': '+1 416-977-0999',\n",
            "  'distance': 2089.1715664300095,\n",
            "  'id': 'RtUvSWO_UZ8V3Wpj0n077w',\n",
            "  'image_url': 'https://s3-media3.fl.yelpcdn.com/bphoto/nHFVveLBqeiCGy12R2CnRA/o.jpg',\n",
            "  'is_closed': False,\n",
            "  'location': {'address1': '398 Church Street',\n",
            "               'address2': '',\n",
            "               'address3': '',\n",
            "               'city': 'Toronto',\n",
            "               'country': 'CA',\n",
            "               'display_address': ['398 Church Street',\n",
            "                                   'Toronto, ON M5B 2A2',\n",
            "                                   'Canada'],\n",
            "               'state': 'ON',\n",
            "               'zip_code': 'M5B 2A2'},\n",
            "  'name': 'KINKA IZAKAYA ORIGINAL',\n",
            "  'phone': '+14169770999',\n",
            "  'price': '$$',\n",
            "  'rating': 4.0,\n",
            "  'review_count': 1671,\n",
            "  'transactions': ['restaurant_reservation'],\n",
            "  'url': 'https://www.yelp.com/biz/kinka-izakaya-original-toronto?adjust_creative=he8fAQ5dPodHGI8nV-U_jw&utm_campaign=yelp_api_v3&utm_medium=api_v3_business_search&utm_source=he8fAQ5dPodHGI8nV-U_jw'},\n",
            " {'alias': 'banh-mi-boys-toronto',\n",
            "  'categories': [{'alias': 'vietnamese', 'title': 'Vietnamese'},\n",
            "                 {'alias': 'sandwiches', 'title': 'Sandwiches'}],\n",
            "  'coordinates': {'latitude': 43.64884, 'longitude': -79.39695},\n",
            "  'display_phone': '+1 416-363-0588',\n",
            "  'distance': 2834.97359074939,\n",
            "  'id': 'N93EYZy9R0sdlEvubu94ig',\n",
            "  'image_url': 'https://s3-media4.fl.yelpcdn.com/bphoto/PegGigxIZ7BfCbzAsXBtXw/o.jpg',\n",
            "  'is_closed': False,\n",
            "  'location': {'address1': '392 Queen Street W',\n",
            "               'address2': '',\n",
            "               'address3': '',\n",
            "               'city': 'Toronto',\n",
            "               'country': 'CA',\n",
            "               'display_address': ['392 Queen Street W',\n",
            "                                   'Toronto, ON M5V 2A9',\n",
            "                                   'Canada'],\n",
            "               'state': 'ON',\n",
            "               'zip_code': 'M5V 2A9'},\n",
            "  'name': 'Banh Mi Boys',\n",
            "  'phone': '+14163630588',\n",
            "  'price': '$',\n",
            "  'rating': 4.5,\n",
            "  'review_count': 1148,\n",
            "  'transactions': [],\n",
            "  'url': 'https://www.yelp.com/biz/banh-mi-boys-toronto?adjust_creative=he8fAQ5dPodHGI8nV-U_jw&utm_campaign=yelp_api_v3&utm_medium=api_v3_business_search&utm_source=he8fAQ5dPodHGI8nV-U_jw'},\n",
            " {'alias': 'richmond-station-toronto',\n",
            "  'categories': [{'alias': 'newcanadian', 'title': 'Canadian (New)'}],\n",
            "  'coordinates': {'latitude': 43.6513729, 'longitude': -79.379285},\n",
            "  'display_phone': '+1 647-748-1444',\n",
            "  'distance': 2911.814072486624,\n",
            "  'id': 'mZRKH9ngRY92bI_irrHq6w',\n",
            "  'image_url': 'https://s3-media1.fl.yelpcdn.com/bphoto/NdPPUsq5L7gAJ-mqr6t7-w/o.jpg',\n",
            "  'is_closed': False,\n",
            "  'location': {'address1': '1 Richmond Street W',\n",
            "               'address2': '',\n",
            "               'address3': '',\n",
            "               'city': 'Toronto',\n",
            "               'country': 'CA',\n",
            "               'display_address': ['1 Richmond Street W',\n",
            "                                   'Toronto, ON M5H 3W4',\n",
            "                                   'Canada'],\n",
            "               'state': 'ON',\n",
            "               'zip_code': 'M5H 3W4'},\n",
            "  'name': 'Richmond Station',\n",
            "  'phone': '+16477481444',\n",
            "  'price': '$$$',\n",
            "  'rating': 4.5,\n",
            "  'review_count': 796,\n",
            "  'transactions': [],\n",
            "  'url': 'https://www.yelp.com/biz/richmond-station-toronto?adjust_creative=he8fAQ5dPodHGI8nV-U_jw&utm_campaign=yelp_api_v3&utm_medium=api_v3_business_search&utm_source=he8fAQ5dPodHGI8nV-U_jw'}]\n"
          ]
        }
      ]
    },
    {
      "cell_type": "markdown",
      "source": [
        "# Scraping Reviews using BeautifulSoup"
      ],
      "metadata": {
        "id": "4IIE9P-tzGq-"
      }
    },
    {
      "cell_type": "code",
      "source": [
        "reviews = []\n",
        "for business in r.json()['businesses']:\n",
        "  reviews_requests = requests.get('https://api.yelp.com/v3/businesses/{}/reviews'.format(business['id']), headers={'Authorization': 'Bearer {}'.format(accessToken)}).json()\n",
        "  review_url = reviews_requests['reviews'][0]['url'] # extracting URL for a specific business\n",
        "  page = requests.get(review_url)\n",
        "  soup = bs(page.content, 'html.parser') # parsing page contents using HTML parser\n",
        "  reviews_list = soup.find_all('div', class_ = lambda x: x and x.startswith('review__')) # list of all reviews\n",
        "  for review in reviews_list:\n",
        "    reviews.append((review.find('span', class_ = lambda x: x and x.startswith('raw__')).text.rstrip('.'), reviews_requests['reviews'][0]['rating'])) # creating tuple of review and its rating"
      ],
      "metadata": {
        "id": "k-giFWB-1eGN"
      },
      "execution_count": 12,
      "outputs": []
    },
    {
      "cell_type": "code",
      "source": [
        "reviews[:5] # checking the first 5 reviews extracted"
      ],
      "metadata": {
        "colab": {
          "base_uri": "https://localhost:8080/"
        },
        "id": "Kj8Un_Xn07q0",
        "outputId": "8c975803-1ebf-4f0f-a001-98e6e96c3e84"
      },
      "execution_count": 13,
      "outputs": [
        {
          "output_type": "execute_result",
          "data": {
            "text/plain": [
              "[(\"A friend recommended this restaurant and I would have waked right by otherwise. Down a flight of stairs, once you walk in, it's a cozy hub of bustling activity, feeling intimate, warm, and hip all at the same time. We had the Thai chicken wings, gai satay, moo ping, and spring rolls to start. The chicken wings were crispy with just enough sauce and the tamarind came through well - we ordered a second serving immediately after getting the first. We opted to dine family style, sharing the Khao Soi, Massaman curry, and the Chef Nuit Pad Thai. These dishes were all well-executed, with the typical flavours of lime, coconut milk, pepper, peanut, and tamarind balanced appropriately. Serving sizes were also great for a group of four to share and get a taste of everything. Service was quick, considering how incredibly busy it was for a Saturday night. Would certainly recommend making reservations in advance, as this place gets PACKED around dinnertime. Prices are only slightly higher than other Thai restaurants and on-par for the location and quality of food\",\n",
              "  5),\n",
              " (\"Been here 4 times and each time is absolutely delicious.Taste, portion sizes, beverages, vibe and wide selection are strengths.It's generally always busy, but the place is huge and usually they can find you a spot (if you're just 2).I love to bring friends here\",\n",
              "  5),\n",
              " (\"Finally got to try Pai after so long! I made reservations two weeks in advance for a weekday birthday dinner for my friend. My friend got the vegan khoa soi and she enjoyed it very much. I ordered the vegetarian pad thai (thai spicy!) ($19) which came with egg and veggies - enoki mushrooms, cabbage, carrots, bean sprouts, and leek. It came with a side of peanuts.Giving 4 stars because it was good but I wasn't blown away. I asked for thai spicy and it tasted quite mild to me. The portion size and taste was great. It also came out piping hot! Service was also fast and warm. I would return to try their other dishes- especially their curries. I definitely understand the hype\",\n",
              "  5),\n",
              " (\"Absolutely worth the hype! Came on Sunday at opening time without a reservation and were seated right away. The decor inside is very welcoming and bright, the music complemented to make a chill vibe. Our waiter informed us they only accept credit card and have a 90 minute table limit. The thai iced tea is delicious - perfect level of sweetness and crushed ice assures it doesn't get watered down. The pad see ew was flavorful and had a great ratio of noodle to greens to shrimp. The hot chili flakes on the side was a nice addition with a squeeze of lemon. Portion size was large. Pad thai was also excellent! The service is fast and attentive. Best restaurant experience I've had in Toronto so far\",\n",
              "  5),\n",
              " (\"You would never find this, if it wasn't so well recommended. \\xa0Lining up down the stairs, I thought we would be waiting forever. \\xa0But once we made it down, they took us in right away and proceeded to take us through this awesome grey bricked underground that opened up into what became a huge restaurant. \\xa0The vibe is cool, from the atmosphere to the music to the great staff. \\xa0Never mind the incredible northern Thai cuisine. \\xa0Thai food like this doesn't appear often. \\xa0Don't miss out\",\n",
              "  5)]"
            ]
          },
          "metadata": {},
          "execution_count": 13
        }
      ]
    },
    {
      "cell_type": "markdown",
      "source": [
        "# Storing Results in JSON"
      ],
      "metadata": {
        "id": "AvVvwYoo5RIb"
      }
    },
    {
      "cell_type": "code",
      "source": [
        "with open('data.json', 'w') as file:\n",
        "  json.dump(list(map(list, {x: 'Positive' if r > 3 else 'Negative' for (x, r) in reviews}.items())), file) # reviews with rating > 3 are defined to be positive, else negative"
      ],
      "metadata": {
        "id": "FpPtmQfH5S7A"
      },
      "execution_count": 14,
      "outputs": []
    },
    {
      "cell_type": "markdown",
      "source": [
        "# Extracting Features"
      ],
      "metadata": {
        "id": "YTjloG_-1Mmh"
      }
    },
    {
      "cell_type": "code",
      "source": [
        "review_features = [(x.split(' '), 'Positive' if y > 3 else 'Negative') for (x, y) in reviews]"
      ],
      "metadata": {
        "id": "kwuBNC0_zvCh"
      },
      "execution_count": 15,
      "outputs": []
    },
    {
      "cell_type": "markdown",
      "source": [
        "# Modeling"
      ],
      "metadata": {
        "id": "U9Vja0ulzvVO"
      }
    },
    {
      "cell_type": "code",
      "source": [
        "random.shuffle(review_features)\n",
        "training_docs = review_features[:int(len(review_features)*0.25)]\n",
        "test_docs = review_features[int(len(review_features)*0.25):]\n",
        "\n",
        "print(\"Training: %d, Testing: %d\" % (len(training_docs), len(test_docs)))\n",
        "\n",
        "sentim_analyzer = SentimentAnalyzer()"
      ],
      "metadata": {
        "colab": {
          "base_uri": "https://localhost:8080/"
        },
        "id": "2HHsg1odzvX6",
        "outputId": "b06dbf09-7d4a-4d1d-9ff0-5c6810051c2e"
      },
      "execution_count": 25,
      "outputs": [
        {
          "output_type": "stream",
          "name": "stdout",
          "text": [
            "Training: 122, Testing: 368\n"
          ]
        }
      ]
    },
    {
      "cell_type": "code",
      "source": [
        "all_words_neg = sentim_analyzer.all_words([nltk.sentiment.util.mark_negation(doc) for doc in training_docs])"
      ],
      "metadata": {
        "id": "BdOJCFMyzva7"
      },
      "execution_count": 26,
      "outputs": []
    },
    {
      "cell_type": "code",
      "source": [
        "unigram_feats = sentim_analyzer.unigram_word_feats(all_words_neg, min_freq=4)\n",
        "sentim_analyzer.add_feat_extractor(nltk.sentiment.util.extract_unigram_feats, unigrams=unigram_feats)"
      ],
      "metadata": {
        "id": "Al416I377FPt"
      },
      "execution_count": 27,
      "outputs": []
    },
    {
      "cell_type": "code",
      "source": [
        "training_set = sentim_analyzer.apply_features(training_docs)\n",
        "test_set = sentim_analyzer.apply_features(test_docs)"
      ],
      "metadata": {
        "id": "Mkx_GMZF7HOp"
      },
      "execution_count": 28,
      "outputs": []
    },
    {
      "cell_type": "code",
      "source": [
        "trainer = NaiveBayesClassifier.train\n",
        "classifier = sentim_analyzer.train(trainer, training_set)\n",
        "for key,value in sorted(sentim_analyzer.evaluate(test_set).items()):\n",
        "  print('{0}: {1}'.format(key, value))"
      ],
      "metadata": {
        "colab": {
          "base_uri": "https://localhost:8080/"
        },
        "id": "jLODmwDe7I-2",
        "outputId": "b1aa4d99-f26f-4c64-c58a-334bd20ae10b"
      },
      "execution_count": 29,
      "outputs": [
        {
          "output_type": "stream",
          "name": "stdout",
          "text": [
            "Training classifier\n",
            "Evaluating NaiveBayesClassifier results...\n",
            "Accuracy: 0.9728260869565217\n",
            "F-measure [Negative]: None\n",
            "F-measure [Positive]: 0.9862258953168043\n",
            "Precision [Negative]: None\n",
            "Precision [Positive]: 0.9728260869565217\n",
            "Recall [Negative]: 0.0\n",
            "Recall [Positive]: 1.0\n"
          ]
        }
      ]
    },
    {
      "cell_type": "markdown",
      "source": [
        "The accuracy obtained through a Naive Bayes Classifier is 97.28%"
      ],
      "metadata": {
        "id": "IudRQtFS8MBZ"
      }
    }
  ]
}